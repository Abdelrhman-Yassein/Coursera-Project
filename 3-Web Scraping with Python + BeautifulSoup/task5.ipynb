{
 "cells": [
  {
   "cell_type": "markdown",
   "metadata": {},
   "source": [
    "# Use CSS selectors for searching complex patterns\n",
    "\n",
    "Reference notebook for the fifth task of the Web Scraping with Python and BeautifulSoup on Coursera.\n",
    "\n",
    "Instructor: Danilo Lessa Bernardineli (https://danlessa.github.io/)"
   ]
  },
  {
   "cell_type": "markdown",
   "metadata": {},
   "source": [
    "## Link\n",
    "\n",
    "https://pt.wikipedia.org/wiki/Rond%C3%B4nia"
   ]
  },
  {
   "cell_type": "code",
   "execution_count": 1,
   "metadata": {},
   "outputs": [],
   "source": [
    "import requests as req\n",
    "from bs4 import BeautifulSoup\n",
    "\n",
    "URL = 'https://pt.wikipedia.org/wiki/Rond%C3%B4nia'\n",
    "r = req.get(URL)\n",
    "soup = BeautifulSoup(r.content)"
   ]
  },
  {
   "cell_type": "code",
   "execution_count": 2,
   "metadata": {},
   "outputs": [],
   "source": [
    "selector=\"#mw-content-text > div.mw-parser-output > p:nth-child(3)\""
   ]
  },
  {
   "cell_type": "code",
   "execution_count": 3,
   "metadata": {},
   "outputs": [
    {
     "data": {
      "text/plain": [
       "[<p><b>Rondônia</b> é uma das 27 <a class=\"mw-redirect\" href=\"/wiki/Unidades_federativas_do_Brasil\" title=\"Unidades federativas do Brasil\">unidades federativas</a> do <a href=\"/wiki/Brasil\" title=\"Brasil\">Brasil</a>. Está localizado na <a href=\"/wiki/Regi%C3%A3o_Norte_do_Brasil\" title=\"Região Norte do Brasil\">região Norte</a> e tem como limites os estados do <a href=\"/wiki/Mato_Grosso\" title=\"Mato Grosso\">Mato Grosso</a> a leste, <a href=\"/wiki/Amazonas\" title=\"Amazonas\">Amazonas</a> a norte, <a href=\"/wiki/Acre\" title=\"Acre\">Acre</a> a oeste e a <a href=\"/wiki/Bol%C3%ADvia\" title=\"Bolívia\">República da Bolívia</a> a oeste e sul. O estado possui 52 municípios e ocupa uma área de 237 590,547 <a class=\"mw-redirect\" href=\"/wiki/Quil%C3%B4metros_quadrados\" title=\"Quilômetros quadrados\">km²</a>, equivalente ao território da <a class=\"mw-redirect\" href=\"/wiki/Rom%C3%A9nia\" title=\"Roménia\">Romênia</a> e quase cinco vezes maior que a <a href=\"/wiki/Cro%C3%A1cia\" title=\"Croácia\">Croácia</a>. Sua capital e município mais populoso é <a href=\"/wiki/Porto_Velho\" title=\"Porto Velho\">Porto Velho</a>, banhada pelo <a href=\"/wiki/Rio_Madeira\" title=\"Rio Madeira\">rio Madeira</a>. Além desta, há outras cidades importantes como <a href=\"/wiki/Ariquemes\" title=\"Ariquemes\">Ariquemes</a>, <a href=\"/wiki/Cacoal\" title=\"Cacoal\">Cacoal</a>, <a href=\"/wiki/Guajar%C3%A1-Mirim\" title=\"Guajará-Mirim\">Guajará-Mirim</a>, <a href=\"/wiki/Ji-Paran%C3%A1\" title=\"Ji-Paraná\">Ji-Paraná</a>, <a href=\"/wiki/Rolim_de_Moura\" title=\"Rolim de Moura\">Rolim de Moura</a> e <a href=\"/wiki/Vilhena\" title=\"Vilhena\">Vilhena</a>.\n",
       " </p>]"
      ]
     },
     "execution_count": 3,
     "metadata": {},
     "output_type": "execute_result"
    }
   ],
   "source": [
    "soup.select(selector)"
   ]
  },
  {
   "cell_type": "code",
   "execution_count": 4,
   "metadata": {},
   "outputs": [],
   "source": [
    "selector=\".mw-redirect\""
   ]
  },
  {
   "cell_type": "code",
   "execution_count": 6,
   "metadata": {},
   "outputs": [
    {
     "data": {
      "text/plain": [
       "[<a class=\"mw-redirect\" href=\"/wiki/Hino_(can%C3%A7%C3%A3o)\" title=\"Hino (canção)\">Hino</a>,\n",
       " <a class=\"mw-redirect\" href=\"/wiki/Marcos_Rog%C3%A9rio_da_Silva_Brito\" title=\"Marcos Rogério da Silva Brito\">Marcos Rogério</a>,\n",
       " <a class=\"mw-redirect\" href=\"/wiki/Quil%C3%B3metro_quadrado\" title=\"Quilómetro quadrado\">km²</a>]"
      ]
     },
     "execution_count": 6,
     "metadata": {},
     "output_type": "execute_result"
    }
   ],
   "source": [
    "soup.select(selector,limit=3)"
   ]
  },
  {
   "cell_type": "code",
   "execution_count": null,
   "metadata": {},
   "outputs": [],
   "source": []
  },
  {
   "cell_type": "code",
   "execution_count": null,
   "metadata": {},
   "outputs": [],
   "source": []
  }
 ],
 "metadata": {
  "kernelspec": {
   "display_name": "Python 3",
   "language": "python",
   "name": "python3"
  },
  "language_info": {
   "codemirror_mode": {
    "name": "ipython",
    "version": 3
   },
   "file_extension": ".py",
   "mimetype": "text/x-python",
   "name": "python",
   "nbconvert_exporter": "python",
   "pygments_lexer": "ipython3",
   "version": "3.7.4"
  }
 },
 "nbformat": 4,
 "nbformat_minor": 4
}
